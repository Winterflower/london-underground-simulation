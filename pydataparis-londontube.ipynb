{
 "metadata": {
  "celltoolbar": "Slideshow",
  "name": "",
  "signature": "sha256:7dbe8b67a0e9a4e4998d35db2c2485c2a7cf42a7359bde8b9e97886e1bdb4bf4"
 },
 "nbformat": 3,
 "nbformat_minor": 0,
 "worksheets": [
  {
   "cells": [
    {
     "cell_type": "markdown",
     "metadata": {
      "slideshow": {
       "slide_type": "slide"
      }
     },
     "source": [
      "# Rush Hour Dynamics: Using Python to Study the London Underground\n",
      "### Camilla Montonen\n",
      "### PyData Paris 2015\n",
      "\n",
      "<img src=\"londontube.png\">"
     ]
    },
    {
     "cell_type": "markdown",
     "metadata": {},
     "source": [
      "# Introduction\n",
      "\n"
     ]
    },
    {
     "cell_type": "markdown",
     "metadata": {},
     "source": [
      "# Roadmap\n",
      "\n",
      "1. Motivation: Why would you want to analyse the London Underground?! Commuting on it is bad enough.\n",
      "2. Data collection: The Challenge of Collecting Data Stored in a Map \n",
      "3. Data analysis: Leveraging graph-tool to analyse the London Underground\n",
      "4. Simulations: Creating simulations using Bokeh"
     ]
    },
    {
     "cell_type": "markdown",
     "metadata": {},
     "source": [
      "# The Takeaway Message\n",
      "\n",
      "There are interesting data problems everywhere in our environment and Python provides a set of amazing tools to start asking questions and generating answers. Don't be afraid to investigate (and write some amazing Python code as you go)!"
     ]
    },
    {
     "cell_type": "markdown",
     "metadata": {
      "slideshow": {
       "slide_type": "slide"
      }
     },
     "source": [
      "# Back in August 2014...\n",
      "\n",
      "<img src=\"train.gif\">\n"
     ]
    },
    {
     "cell_type": "markdown",
     "metadata": {},
     "source": [
      "# Which Tube line should I take to work?\n",
      "<img src=\"tube.png\">"
     ]
    },
    {
     "cell_type": "markdown",
     "metadata": {},
     "source": [
      "## Motivations\n",
      "\n",
      "* Delays and suspension on remote stations and Tube lines seem to congest even remote stations\n",
      "\n",
      "Studying the London Underground and performing simulations can help to understand:\n",
      "\n",
      "* the overall characteristics of the London Underground Network\n",
      "* The Tube stations that are critical for the proper functioning of the network"
     ]
    },
    {
     "cell_type": "markdown",
     "metadata": {},
     "source": [
      "# Data Collection\n",
      "\n",
      "The challenge in data collection was to find a way to translate the standard TfL London Underground Map into a graph representation. \n",
      "\n",
      "Start:\n",
      "<img src=\"tube.png\">\n",
      "\n",
      "Goal:\n",
      "\n",
      "<img src=\"src/graph_analytics/fancy_graph_sfdp.png\">\n",
      "\n"
     ]
    },
    {
     "cell_type": "markdown",
     "metadata": {},
     "source": [
      "## Data collection:\n",
      "\n",
      "It would be cool to program some kind of OCR to automatically read the data from the map and produce a data file!\n",
      "But alas, I had to resort to manually creating a data file:\n",
      "\n",
      "```\n",
      "#Station #Neighbour(line)\n",
      "Acton Town\t        Chiswick Park (District), South Ealing (Picadilly), Turnham Green (Picadilly)\n",
      "Aldgate\t\t        Tower Hill (Circle; District), Liverpool Street (Metropolitan; Circle; District)\n",
      "Aldgate East\t    Tower Hill (District), Liverpool Street (HammersmithCity; Metropolitan)\n",
      "Alperton\t        Sudbury Town (Picadilly), Park Royal (Picadilly)\n",
      "```"
     ]
    },
    {
     "cell_type": "markdown",
     "metadata": {
      "slideshow": {
       "slide_type": "slide"
      }
     },
     "source": [
      "#Data analysis\n",
      "\n",
      "Now that we have collected out data, it's time start interesting questions about it. \n",
      "\n",
      "Some of the burning questions that I had:\n",
      "\n",
      "1. What are the most \"important\" stations in the London Underground network?\n",
      "2. What is the average shortest path between any two stations?\n",
      "3. Which stations are the most critical for the proper functioning of the network?\n"
     ]
    },
    {
     "cell_type": "markdown",
     "metadata": {
      "slideshow": {
       "slide_type": "slide"
      }
     },
     "source": [
      "# Data analysis using graph-tool\n",
      "\n",
      "<img src=\"graph-tool-small-logo.png\">\n",
      "\n",
      "* `graph-tool` is a Python library written by Tiago Peixoto that provides a number of tools for analyzing and plotting graphs.\n",
      "\n",
      "* it provides a number of useful tools and methods \n",
      "\n",
      "    1. A `Graph` object for defining graphs\n",
      "    2. Property maps : helpful for associating values with vertices and edges\n",
      "    3. Various methods for analyzing graph topology\n",
      "    4. Built-in graph visualization\n",
      "\n",
      "Another Python tool that you may wish to explore for graph analysis is `NetworkX`.\n",
      "\n"
     ]
    },
    {
     "cell_type": "markdown",
     "metadata": {
      "slideshow": {
       "slide_type": "slide"
      }
     },
     "source": [
      "# Data analysis using graph-tool\n",
      "\n",
      "Let's see what the graph looks like!\n",
      "\n",
      "<img src=\"src/graph_analytics/fancy_graph_arf.png\">"
     ]
    },
    {
     "cell_type": "markdown",
     "metadata": {
      "slideshow": {
       "slide_type": "slide"
      }
     },
     "source": [
      "# Data analysis using graph-tool\n",
      "\n",
      "`graph-tool` allows us to compute several interesting metrics, which are often used to characterize graphs:\n",
      "\n",
      "1. Degree distribution\n",
      "2. Average shortest path\n",
      "\n"
     ]
    },
    {
     "cell_type": "code",
     "collapsed": false,
     "input": [
      "# import necessary packages\n",
      "\n",
      "# define data files\n",
      "geographical_data=\"/home/winterflower/programming_projects/python-londontube/src/data/london_stations.csv\"\n",
      "network_data=\"/home/winterflower/programming_projects/python-londontube/src/data/londontubes.txt\""
     ],
     "language": "python",
     "metadata": {
      "slideshow": {
       "slide_type": "subslide"
      }
     },
     "outputs": [],
     "prompt_number": 2
    },
    {
     "cell_type": "markdown",
     "metadata": {
      "slideshow": {
       "slide_type": "slide"
      }
     },
     "source": [
      "# Data analysis using graph-tool\n",
      "\n",
      "1. What are the most \"important\" stations in the London Underground network?\n",
      "\n",
      "Of course, there are many ways to measure the importance of a vertex in a graph. One such measure is called *betweenness centrality* . Simply stated, it measures the fraction of shortest paths out of all shortest paths that pass through the vertex. \n",
      "\n",
      "`graph-tool` provides a module `graph-tool.centrality` which allows you to compute various centrality measures out of the box. "
     ]
    },
    {
     "cell_type": "markdown",
     "metadata": {
      "slideshow": {
       "slide_type": "slide"
      }
     },
     "source": [
      "## Betweenness Centrality\n",
      "What fraction of all shortest paths passes through this vertex?"
     ]
    },
    {
     "cell_type": "code",
     "collapsed": false,
     "input": [
      "#define some useful preliminaries\n",
      "geographical_data=\"/home/winterflower/programming_projects/python-londontube/src/data/london_stations.csv\"\n",
      "network_data=\"/home/winterflower/programming_projects/python-londontube/src/data/londontubes.txt\"\n",
      "\n",
      "#calculate the betweenness centrality\n",
      "#create the map_object\n",
      "\n",
      "from src import simulation_utils\n",
      "from src.graph_analytics import graph_analysis\n",
      "import pandas as pd\n",
      "betweenness_centrality_series_object=graph_analysis.calculate_betweenness(network_data)\n",
      "betweenness_centrality_series_object.sort(ascending=False)\n",
      "print betweenness_centrality_series_object[:10]"
     ],
     "language": "python",
     "metadata": {
      "slideshow": {
       "slide_type": "slide"
      }
     },
     "outputs": [
      {
       "output_type": "stream",
       "stream": "stdout",
       "text": [
        "Baker Street               0.344084\n",
        "King's Cross St.Pancras    0.303868\n",
        "Liverpool Street           0.267392\n",
        "Green Park                 0.263264\n",
        "Mile End                   0.229449\n",
        "Bethnal Green              0.227822\n",
        "Victoria                   0.222771\n",
        "Stratford                  0.220119\n",
        "Finchley Road              0.211660\n",
        "Waterloo                   0.207129\n",
        "dtype: float64\n"
       ]
      }
     ],
     "prompt_number": 2
    },
    {
     "cell_type": "markdown",
     "metadata": {
      "slideshow": {
       "slide_type": "slide"
      }
     },
     "source": [
      "## Betweenness Centrality\n",
      "\n",
      "<img src=\"baker_street.jpg\">"
     ]
    },
    {
     "cell_type": "markdown",
     "metadata": {
      "slideshow": {
       "slide_type": "slide"
      }
     },
     "source": [
      "## Betweenness Centrality\n",
      "\n",
      "<img src=\"tube.png\">"
     ]
    },
    {
     "cell_type": "markdown",
     "metadata": {
      "slideshow": {
       "slide_type": "slide"
      }
     },
     "source": [
      "## Shortest paths\n",
      "\n",
      "Which station has the smallest average shortest path to any other station in the graph?\n",
      "\n",
      "\n",
      "\n",
      "\n"
     ]
    },
    {
     "cell_type": "code",
     "collapsed": false,
     "input": [
      "## calculate the length of the shortest path from any two stations\n",
      "\n",
      "from src.graph_analytics import graph_analysis\n",
      "shortest_paths=graph_analysis.calculate_all_shortest_paths(network_data)\n",
      "#calculate the mean shortest path\n",
      "mean_shortest_path=shortest_paths.mean(axis=0)\n",
      "#find out stations with smallest mean shortest paths\n",
      "mean_shortest_path.order(ascending=True, inplace=True)\n",
      "#find out the top 5 stations\n",
      "mean_shortest_path[:5]\n"
     ],
     "language": "python",
     "metadata": {
      "slideshow": {
       "slide_type": "slide"
      }
     },
     "outputs": [
      {
       "metadata": {},
       "output_type": "pyout",
       "prompt_number": 5,
       "text": [
        "Green Park       8.901887\n",
        "Oxford Circus    9.007547\n",
        "Bond Street      9.090566\n",
        "Baker Street     9.211321\n",
        "Westminster      9.339623\n",
        "dtype: float64"
       ]
      }
     ],
     "prompt_number": 5
    },
    {
     "cell_type": "markdown",
     "metadata": {
      "slideshow": {
       "slide_type": "slide"
      }
     },
     "source": [
      "# Simulating commuter flow between stations\n",
      "\n",
      "Designing a simple two component simulation:\n",
      "\n",
      "<img src=\"simulation_diagram.png\">\n",
      "\n",
      "\n",
      "\n"
     ]
    },
    {
     "cell_type": "markdown",
     "metadata": {
      "slideshow": {
       "slide_type": "slide"
      }
     },
     "source": [
      "## Simulating commuter flow between stations\n",
      "\n",
      "<img src=\"bokeh_logo_small.png\">\n",
      "\n",
      "* Bokeh allows you to create graphs that update in \"real-time\"\n",
      "\n",
      "\n"
     ]
    },
    {
     "cell_type": "markdown",
     "metadata": {
      "slideshow": {
       "slide_type": "slide"
      }
     },
     "source": [
      "## Summary \n",
      "\n",
      "* Python provides excellent libraries for studying real-world problems where the natural representation of the data is a graph\n",
      "* In addition to calculating metrics, you can easily make amazing animations by integrating graph-tool with bokeh\n",
      "* Find interesting problems, ask hard questions and start exploring!\n"
     ]
    },
    {
     "cell_type": "markdown",
     "metadata": {
      "slideshow": {
       "slide_type": "slide"
      }
     },
     "source": [
      "## Thank you ! (and please ask questions!)"
     ]
    },
    {
     "cell_type": "code",
     "collapsed": false,
     "input": [],
     "language": "python",
     "metadata": {},
     "outputs": []
    }
   ],
   "metadata": {}
  }
 ]
}