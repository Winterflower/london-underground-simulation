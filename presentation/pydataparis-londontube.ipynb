{
 "cells": [
  {
   "cell_type": "markdown",
   "metadata": {
    "slideshow": {
     "slide_type": "slide"
    }
   },
   "source": [
    "# Rush Hour Dynamics: Using Python to Study the London Underground\n",
    "#### Camilla Montonen\n",
    "#### PyData Paris 2015\n",
    "\n",
    "<img src=\"londontube.png\" height=500 width=500>"
   ]
  },
  {
   "cell_type": "markdown",
   "metadata": {
    "slideshow": {
     "slide_type": "slide"
    }
   },
   "source": [
    "# Introduction\n",
    "<img src=\"introimage.png\" height=800 width=800>\n",
    "\n"
   ]
  },
  {
   "cell_type": "markdown",
   "metadata": {
    "slideshow": {
     "slide_type": "slide"
    }
   },
   "source": [
    "#Background\n",
    "\n",
    "* Bryn Mawr College 2013 \n",
    "* University of Edinburgh 2014\n",
    "* Currently working as in QA at Caplin Systems Ltd.\n",
    "* Member of Pyladies London and Women in Data. If you're ever in London, please drop in to one of our meetups!\n"
   ]
  },
  {
   "cell_type": "markdown",
   "metadata": {
    "slideshow": {
     "slide_type": "slide"
    }
   },
   "source": [
    "# Roadmap\n",
    "\n",
    "1. Motivation: Why would you want to analyse the London Underground?! Commuting on it is bad enough.\n",
    "2. Data collection: The Challenge of Collecting Data Stored in a Map \n",
    "3. Data analysis: Leveraging graph-tool to analyse the London Underground\n",
    "4. Simulations: Creating simulations using Bokeh"
   ]
  },
  {
   "cell_type": "markdown",
   "metadata": {
    "slideshow": {
     "slide_type": "slide"
    }
   },
   "source": [
    "# There are interesting data problems everywhere...\n",
    "\n",
    "* Python gives you the tools, but you have to ask the questions!\n",
    "\n",
    "<img src=\"fancy_graph_arf.png\">"
   ]
  },
  {
   "cell_type": "markdown",
   "metadata": {
    "slideshow": {
     "slide_type": "slide"
    }
   },
   "source": [
    "# Back in August 2014...\n",
    "\n",
    "<img src=\"train.gif\">\n"
   ]
  },
  {
   "cell_type": "markdown",
   "metadata": {
    "slideshow": {
     "slide_type": "slide"
    }
   },
   "source": [
    "# Which Tube line should I take to work?\n",
    "<img src=\"tube.png\">"
   ]
  },
  {
   "cell_type": "markdown",
   "metadata": {
    "slideshow": {
     "slide_type": "slide"
    }
   },
   "source": [
    "## Some days it was all good...\n",
    "\n",
    "<img src=\"norush.jpg\" height=400 width=600>\n",
    "\n"
   ]
  },
  {
   "cell_type": "markdown",
   "metadata": {
    "slideshow": {
     "slide_type": "slide"
    }
   },
   "source": [
    "# Other days ...not so good\n",
    "\n",
    "<img src=\"congestion.jpg\" height=400 width=400>"
   ]
  },
  {
   "cell_type": "markdown",
   "metadata": {
    "slideshow": {
     "slide_type": "slide"
    }
   },
   "source": [
    "# A pattern starts to emerge\n",
    "\n",
    "<img src=\"delays.jpg\">\n",
    "Source: [BBC News](http://news.bbc.co.uk/1/hi/in_pictures/8092917.stm)"
   ]
  },
  {
   "cell_type": "markdown",
   "metadata": {
    "slideshow": {
     "slide_type": "slide"
    }
   },
   "source": [
    "### Observation: delays or suspensions on one station can affect remote stations\n",
    "\n",
    "<img src=\"tube.png\">\n"
   ]
  },
  {
   "cell_type": "markdown",
   "metadata": {
    "slideshow": {
     "slide_type": "slide"
    }
   },
   "source": [
    "## Questions that demand an answer\n",
    "\n"
   ]
  },
  {
   "cell_type": "markdown",
   "metadata": {
    "slideshow": {
     "slide_type": "fragment"
    }
   },
   "source": [
    "What are the most \"important\" stations in the London Underground network?\n"
   ]
  },
  {
   "cell_type": "markdown",
   "metadata": {
    "slideshow": {
     "slide_type": "fragment"
    }
   },
   "source": [
    "How does suspending these \"important\" stations affect the rest of the network"
   ]
  },
  {
   "cell_type": "markdown",
   "metadata": {
    "slideshow": {
     "slide_type": "slide"
    }
   },
   "source": [
    "# Let's bring the Python to the Data\n",
    "\n",
    "<img src=\"python-logo.png\" height=50 widht=50>\n",
    "<img src=\"bokeh_logo_small.png\">\n",
    "<img src=\"graph-tool-small-logo.png\">"
   ]
  },
  {
   "cell_type": "markdown",
   "metadata": {
    "slideshow": {
     "slide_type": "slide"
    }
   },
   "source": [
    "# In the beginning, there was the 'Data'\n",
    "\n",
    "How do I translate a physical map of the London Underground into a Graph I can process with Python?\n",
    "\n",
    "\n",
    "\n"
   ]
  },
  {
   "cell_type": "markdown",
   "metadata": {
    "slideshow": {
     "slide_type": "subslide"
    }
   },
   "source": [
    "## Start\n",
    "\n",
    "\n",
    "<img src=\"tube.png\">"
   ]
  },
  {
   "cell_type": "markdown",
   "metadata": {
    "slideshow": {
     "slide_type": "subslide"
    }
   },
   "source": [
    "## Goal\n",
    "\n",
    "<img src=\"fancy_graph_sfdp.png\">"
   ]
  },
  {
   "cell_type": "markdown",
   "metadata": {},
   "source": [
    "# Goal\n",
    "\n",
    "<img src=\"betweenness.png\">"
   ]
  },
  {
   "cell_type": "markdown",
   "metadata": {
    "slideshow": {
     "slide_type": "slide"
    }
   },
   "source": [
    "## Data collection:\n",
    "\n",
    "It would be cool to program some kind of OCR to automatically read the data from the map and produce a data file!\n",
    "But alas, I had to resort to manually creating a data file:\n",
    "\n",
    "```\n",
    "#Station #Neighbour(line)\n",
    "Acton Town\t        Chiswick Park (District), South Ealing (Picadilly), Turnham Green (Picadilly)\n",
    "Aldgate\t\t        Tower Hill (Circle; District), Liverpool Street (Metropolitan; Circle; District)\n",
    "Aldgate East\t    Tower Hill (District), Liverpool Street (HammersmithCity; Metropolitan)\n",
    "Alperton\t        Sudbury Town (Picadilly), Park Royal (Picadilly)\n",
    "```"
   ]
  },
  {
   "cell_type": "markdown",
   "metadata": {},
   "source": [
    "# Now it's a piece of cake...\n",
    "\n",
    "<img src=\"data-slide.png\" >"
   ]
  },
  {
   "cell_type": "markdown",
   "metadata": {
    "slideshow": {
     "slide_type": "slide"
    }
   },
   "source": [
    "#... to make a graph\n",
    "\n",
    "<img src=\"arrow-graph.png\">"
   ]
  },
  {
   "cell_type": "markdown",
   "metadata": {
    "slideshow": {
     "slide_type": "slide"
    }
   },
   "source": [
    "#Let's go back to our question 1\n",
    "\n",
    "1. What is the most \"important\" station in the London Underground network?\n"
   ]
  },
  {
   "cell_type": "markdown",
   "metadata": {},
   "source": [
    "# Defining \"importance\"\n",
    "\n",
    "<img src=\"tube.png\">"
   ]
  },
  {
   "cell_type": "markdown",
   "metadata": {},
   "source": [
    "# Let's talk about betweenness centrality\n",
    "\n",
    "<img src=\"betweenness_illustration.png\" height=400 width=400>"
   ]
  },
  {
   "cell_type": "markdown",
   "metadata": {
    "slideshow": {
     "slide_type": "slide"
    }
   },
   "source": [
    "## Betweenness seems like a good metric to measure the \"importance\" of a station\n"
   ]
  },
  {
   "cell_type": "markdown",
   "metadata": {
    "slideshow": {
     "slide_type": "slide"
    }
   },
   "source": [
    "# Graphs and Python:  `graph-tool`\n",
    "\n",
    "<img src=\"graph-tool-small-logo.png\">\n",
    "\n",
    "* `graph-tool` is a Python library written by Tiago Peixoto that provides a number of tools for analyzing and plotting graphs.\n",
    "\n",
    "\n"
   ]
  },
  {
   "cell_type": "markdown",
   "metadata": {
    "slideshow": {
     "slide_type": "slide"
    }
   },
   "source": [
    "# What can you do with `graph-tool` ?\n",
    "\n"
   ]
  },
  {
   "cell_type": "markdown",
   "metadata": {
    "slideshow": {
     "slide_type": "fragment"
    }
   },
   "source": [
    "## Create a graph object \n",
    "\n",
    "```python\n",
    "from graph_tool.\n",
    "```"
   ]
  },
  {
   "cell_type": "markdown",
   "metadata": {
    "slideshow": {
     "slide_type": "fragment"
    }
   },
   "source": [
    "## Add edges and vertices to the graph"
   ]
  },
  {
   "cell_type": "code",
   "execution_count": null,
   "metadata": {
    "collapsed": true
   },
   "outputs": [],
   "source": []
  },
  {
   "cell_type": "markdown",
   "metadata": {
    "slideshow": {
     "slide_type": "slide"
    }
   },
   "source": [
    "# Data analysis using graph-tool\n",
    "\n",
    "Let's see what the graph looks like!\n",
    "\n",
    "<img src=\"fancy_graph_arf.png\">"
   ]
  },
  {
   "cell_type": "markdown",
   "metadata": {
    "slideshow": {
     "slide_type": "slide"
    }
   },
   "source": [
    "# Data analysis using graph-tool\n",
    "\n",
    "`graph-tool` allows us to compute several interesting metrics, which are often used to characterize graphs:\n",
    "\n",
    "1. Degree distribution\n",
    "2. Average shortest path\n",
    "\n"
   ]
  },
  {
   "cell_type": "code",
   "execution_count": 2,
   "metadata": {
    "collapsed": false,
    "slideshow": {
     "slide_type": "subslide"
    }
   },
   "outputs": [],
   "source": [
    "# import necessary packages\n",
    "\n",
    "# define data files\n",
    "geographical_data=\"/home/winterflower/programming_projects/python-londontube/src/data/london_stations.csv\"\n",
    "network_data=\"/home/winterflower/programming_projects/python-londontube/src/data/londontubes.txt\""
   ]
  },
  {
   "cell_type": "markdown",
   "metadata": {
    "slideshow": {
     "slide_type": "slide"
    }
   },
   "source": [
    "# Data analysis using graph-tool\n",
    "\n",
    "1. What are the most \"important\" stations in the London Underground network?\n",
    "\n",
    "Of course, there are many ways to measure the importance of a vertex in a graph. One such measure is called *betweenness centrality* . Simply stated, it measures the fraction of shortest paths out of all shortest paths that pass through the vertex. \n",
    "\n",
    "`graph-tool` provides a module `graph-tool.centrality` which allows you to compute various centrality measures out of the box. "
   ]
  },
  {
   "cell_type": "markdown",
   "metadata": {
    "slideshow": {
     "slide_type": "slide"
    }
   },
   "source": [
    "## Betweenness Centrality\n",
    "What fraction of all shortest paths passes through this vertex?"
   ]
  },
  {
   "cell_type": "code",
   "execution_count": 2,
   "metadata": {
    "collapsed": false,
    "slideshow": {
     "slide_type": "slide"
    }
   },
   "outputs": [
    {
     "name": "stdout",
     "output_type": "stream",
     "text": [
      "Baker Street               0.344084\n",
      "King's Cross St.Pancras    0.303868\n",
      "Liverpool Street           0.267392\n",
      "Green Park                 0.263264\n",
      "Mile End                   0.229449\n",
      "Bethnal Green              0.227822\n",
      "Victoria                   0.222771\n",
      "Stratford                  0.220119\n",
      "Finchley Road              0.211660\n",
      "Waterloo                   0.207129\n",
      "dtype: float64\n"
     ]
    }
   ],
   "source": [
    "#define some useful preliminaries\n",
    "geographical_data=\"/home/winterflower/programming_projects/python-londontube/src/data/london_stations.csv\"\n",
    "network_data=\"/home/winterflower/programming_projects/python-londontube/src/data/londontubes.txt\"\n",
    "\n",
    "#calculate the betweenness centrality\n",
    "#create the map_object\n",
    "\n",
    "from src import simulation_utils\n",
    "from src.graph_analytics import graph_analysis\n",
    "import pandas as pd\n",
    "betweenness_centrality_series_object=graph_analysis.calculate_betweenness(network_data)\n",
    "betweenness_centrality_series_object.sort(ascending=False)\n",
    "print betweenness_centrality_series_object[:10]"
   ]
  },
  {
   "cell_type": "markdown",
   "metadata": {
    "slideshow": {
     "slide_type": "slide"
    }
   },
   "source": [
    "## Betweenness Centrality\n",
    "\n",
    "<img src=\"baker_street.jpg\">"
   ]
  },
  {
   "cell_type": "markdown",
   "metadata": {
    "slideshow": {
     "slide_type": "slide"
    }
   },
   "source": [
    "## Betweenness Centrality\n",
    "\n",
    "<img src=\"tube.png\">"
   ]
  },
  {
   "cell_type": "markdown",
   "metadata": {
    "slideshow": {
     "slide_type": "slide"
    }
   },
   "source": [
    "## Shortest paths\n",
    "\n",
    "Which station has the smallest average shortest path to any other station in the graph?\n",
    "\n",
    "\n",
    "\n",
    "\n"
   ]
  },
  {
   "cell_type": "code",
   "execution_count": 5,
   "metadata": {
    "collapsed": false,
    "slideshow": {
     "slide_type": "slide"
    }
   },
   "outputs": [
    {
     "data": {
      "text/plain": [
       "Green Park       8.901887\n",
       "Oxford Circus    9.007547\n",
       "Bond Street      9.090566\n",
       "Baker Street     9.211321\n",
       "Westminster      9.339623\n",
       "dtype: float64"
      ]
     },
     "execution_count": 5,
     "metadata": {},
     "output_type": "execute_result"
    }
   ],
   "source": [
    "## calculate the length of the shortest path from any two stations\n",
    "\n",
    "from src.graph_analytics import graph_analysis\n",
    "shortest_paths=graph_analysis.calculate_all_shortest_paths(network_data)\n",
    "#calculate the mean shortest path\n",
    "mean_shortest_path=shortest_paths.mean(axis=0)\n",
    "#find out stations with smallest mean shortest paths\n",
    "mean_shortest_path.order(ascending=True, inplace=True)\n",
    "#find out the top 5 stations\n",
    "mean_shortest_path[:5]\n"
   ]
  },
  {
   "cell_type": "markdown",
   "metadata": {
    "slideshow": {
     "slide_type": "slide"
    }
   },
   "source": [
    "# Simulating commuter flow between stations\n",
    "\n",
    "Designing a simple two component simulation:\n",
    "\n",
    "<img src=\"simulation_diagram.png\">\n",
    "\n",
    "\n",
    "\n"
   ]
  },
  {
   "cell_type": "markdown",
   "metadata": {
    "slideshow": {
     "slide_type": "slide"
    }
   },
   "source": [
    "## Simulating commuter flow between stations\n",
    "\n",
    "<img src=\"bokeh_logo_small.png\">\n",
    "\n",
    "* Bokeh allows you to create graphs that update in \"real-time\"\n",
    "\n",
    "\n"
   ]
  },
  {
   "cell_type": "markdown",
   "metadata": {
    "slideshow": {
     "slide_type": "slide"
    }
   },
   "source": [
    "## Summary \n",
    "\n",
    "* Python provides excellent libraries for studying real-world problems where the natural representation of the data is a graph\n",
    "* In addition to calculating metrics, you can easily make amazing animations by integrating graph-tool with bokeh\n",
    "* Find interesting problems, ask hard questions and start exploring!\n"
   ]
  },
  {
   "cell_type": "markdown",
   "metadata": {
    "slideshow": {
     "slide_type": "slide"
    }
   },
   "source": [
    "## Thank you ! (and please ask questions!)"
   ]
  },
  {
   "cell_type": "code",
   "execution_count": null,
   "metadata": {
    "collapsed": false,
    "slideshow": {
     "slide_type": "slide"
    }
   },
   "outputs": [],
   "source": []
  }
 ],
 "metadata": {
  "celltoolbar": "Slideshow",
  "kernelspec": {
   "display_name": "Python 2",
   "language": "python",
   "name": "python2"
  },
  "language_info": {
   "codemirror_mode": {
    "name": "ipython",
    "version": 2
   },
   "file_extension": ".py",
   "mimetype": "text/x-python",
   "name": "python",
   "nbconvert_exporter": "python",
   "pygments_lexer": "ipython2",
   "version": "2.7.9"
  }
 },
 "nbformat": 4,
 "nbformat_minor": 0
}
